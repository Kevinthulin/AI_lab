{
 "cells": [
  {
   "cell_type": "code",
   "execution_count": 10,
   "metadata": {},
   "outputs": [],
   "source": [
    "import pandas as pd\n",
    "import seaborn as sns\n",
    "import numpy as np\n",
    "import matplotlib.pyplot as plt\n",
    "from scipy.sparse import vstack, csc_matrix, coo_matrix\n",
    "from sklearn.feature_extraction.text import TfidfVectorizer\n",
    "from sklearn.neighbors import NearestNeighbors\n",
    "from sklearn.metrics.pairwise import cosine_similarity\n",
    "from sklearn.metrics.pairwise import linear_kernel\n",
    "from sklearn.metrics import mean_squared_error\n",
    "from sklearn.model_selection import cross_val_score"
   ]
  },
  {
   "cell_type": "code",
   "execution_count": 11,
   "metadata": {},
   "outputs": [
    {
     "data": {
      "text/html": [
       "<div>\n",
       "<style scoped>\n",
       "    .dataframe tbody tr th:only-of-type {\n",
       "        vertical-align: middle;\n",
       "    }\n",
       "\n",
       "    .dataframe tbody tr th {\n",
       "        vertical-align: top;\n",
       "    }\n",
       "\n",
       "    .dataframe thead th {\n",
       "        text-align: right;\n",
       "    }\n",
       "</style>\n",
       "<table border=\"1\" class=\"dataframe\">\n",
       "  <thead>\n",
       "    <tr style=\"text-align: right;\">\n",
       "      <th></th>\n",
       "      <th>movieId</th>\n",
       "      <th>title</th>\n",
       "      <th>genres</th>\n",
       "    </tr>\n",
       "  </thead>\n",
       "  <tbody>\n",
       "    <tr>\n",
       "      <th>257</th>\n",
       "      <td>260</td>\n",
       "      <td>Star Wars: Episode IV - A New Hope (1977)</td>\n",
       "      <td>Action|Adventure|Sci-Fi</td>\n",
       "    </tr>\n",
       "    <tr>\n",
       "      <th>292</th>\n",
       "      <td>296</td>\n",
       "      <td>Pulp Fiction (1994)</td>\n",
       "      <td>Comedy|Crime|Drama|Thriller</td>\n",
       "    </tr>\n",
       "    <tr>\n",
       "      <th>314</th>\n",
       "      <td>318</td>\n",
       "      <td>Shawshank Redemption, The (1994)</td>\n",
       "      <td>Crime|Drama</td>\n",
       "    </tr>\n",
       "    <tr>\n",
       "      <th>351</th>\n",
       "      <td>356</td>\n",
       "      <td>Forrest Gump (1994)</td>\n",
       "      <td>Comedy|Drama|Romance|War</td>\n",
       "    </tr>\n",
       "    <tr>\n",
       "      <th>475</th>\n",
       "      <td>480</td>\n",
       "      <td>Jurassic Park (1993)</td>\n",
       "      <td>Action|Adventure|Sci-Fi|Thriller</td>\n",
       "    </tr>\n",
       "    <tr>\n",
       "      <th>522</th>\n",
       "      <td>527</td>\n",
       "      <td>Schindler's List (1993)</td>\n",
       "      <td>Drama|War</td>\n",
       "    </tr>\n",
       "    <tr>\n",
       "      <th>585</th>\n",
       "      <td>593</td>\n",
       "      <td>Silence of the Lambs, The (1991)</td>\n",
       "      <td>Crime|Horror|Thriller</td>\n",
       "    </tr>\n",
       "    <tr>\n",
       "      <th>1166</th>\n",
       "      <td>1196</td>\n",
       "      <td>Star Wars: Episode V - The Empire Strikes Back...</td>\n",
       "      <td>Action|Adventure|Sci-Fi</td>\n",
       "    </tr>\n",
       "    <tr>\n",
       "      <th>2480</th>\n",
       "      <td>2571</td>\n",
       "      <td>Matrix, The (1999)</td>\n",
       "      <td>Action|Sci-Fi|Thriller</td>\n",
       "    </tr>\n",
       "    <tr>\n",
       "      <th>2867</th>\n",
       "      <td>2959</td>\n",
       "      <td>Fight Club (1999)</td>\n",
       "      <td>Action|Crime|Drama|Thriller</td>\n",
       "    </tr>\n",
       "  </tbody>\n",
       "</table>\n",
       "</div>"
      ],
      "text/plain": [
       "      movieId                                              title  \\\n",
       "257       260          Star Wars: Episode IV - A New Hope (1977)   \n",
       "292       296                                Pulp Fiction (1994)   \n",
       "314       318                   Shawshank Redemption, The (1994)   \n",
       "351       356                                Forrest Gump (1994)   \n",
       "475       480                               Jurassic Park (1993)   \n",
       "522       527                            Schindler's List (1993)   \n",
       "585       593                   Silence of the Lambs, The (1991)   \n",
       "1166     1196  Star Wars: Episode V - The Empire Strikes Back...   \n",
       "2480     2571                                 Matrix, The (1999)   \n",
       "2867     2959                                  Fight Club (1999)   \n",
       "\n",
       "                                genres  \n",
       "257            Action|Adventure|Sci-Fi  \n",
       "292        Comedy|Crime|Drama|Thriller  \n",
       "314                        Crime|Drama  \n",
       "351           Comedy|Drama|Romance|War  \n",
       "475   Action|Adventure|Sci-Fi|Thriller  \n",
       "522                          Drama|War  \n",
       "585              Crime|Horror|Thriller  \n",
       "1166           Action|Adventure|Sci-Fi  \n",
       "2480            Action|Sci-Fi|Thriller  \n",
       "2867       Action|Crime|Drama|Thriller  "
      ]
     },
     "execution_count": 11,
     "metadata": {},
     "output_type": "execute_result"
    }
   ],
   "source": [
    "ratings = pd.read_csv(\"../data_AI/ratings.csv\")\n",
    "movies = pd.read_csv(\"../data_AI/movies.csv\")\n",
    "tags = pd.read_csv(\"../data_AI/tags.csv\")\n",
    "\n",
    "top_10movies = ratings[\"movieId\"].value_counts().head(10).index\n",
    "top_10_movies_data = movies[movies[\"movieId\"].isin(top_10movies)]\n",
    "\n",
    "top_10_movies_data\n",
    "\n"
   ]
  },
  {
   "cell_type": "code",
   "execution_count": 12,
   "metadata": {},
   "outputs": [],
   "source": [
    "# avarage_ratings = ratings[ratings['movieId'].isin(top_10movies)].groupby('movieId')['rating'].mean()\n",
    "# avarage_ratings"
   ]
  },
  {
   "cell_type": "code",
   "execution_count": 13,
   "metadata": {},
   "outputs": [
    {
     "data": {
      "image/png": "[encoded data removed]",
      "text/plain": [
       "<Figure size 1000x600 with 1 Axes>"
      ]
     },
     "metadata": {},
     "output_type": "display_data"
    }
   ],
   "source": [
    "movies['year'] = movies['title'].str.extract(r'(\\d{4})').astype(float)\n",
    "movies_per_year = movies.groupby('year').size()\n",
    "movies_per_year_filtered = movies_per_year.dropna()\n",
    "\n",
    "\n",
    "plt.figure(figsize=(10, 6))\n",
    "movies_per_year_filtered.plot(kind='line')\n",
    "plt.title=('ÅR för bajre dag')\n",
    "plt.xlabel('År')\n",
    "plt.ylabel('Antal Filmer')\n",
    "plt.grid(True)\n",
    "plt.show()"
   ]
  },
  {
   "cell_type": "code",
   "execution_count": 14,
   "metadata": {},
   "outputs": [
    {
     "data": {
      "image/png": "[encoded data removed]",
      "text/plain": [
       "<Figure size 640x480 with 1 Axes>"
      ]
     },
     "metadata": {},
     "output_type": "display_data"
    }
   ],
   "source": [
    "plt.scatter(ratings['movieId'].value_counts().index, ratings['movieId'].value_counts().values)\n",
    "plt.xlabel('Movie ID')\n",
    "plt.ylabel('Antal Ratings')\n",
    "plt.show()\n"
   ]
  },
  {
   "cell_type": "code",
   "execution_count": 15,
   "metadata": {},
   "outputs": [],
   "source": [
    "# avarage_ratings.plot(kind='bar')"
   ]
  },
  {
   "cell_type": "code",
   "execution_count": 16,
   "metadata": {},
   "outputs": [],
   "source": [
    "\n",
    "average_ratings = ratings.groupby('movieId')['rating'].mean()\n",
    "highly_rated_movies = average_ratings[average_ratings >= 1].index.tolist()\n",
    "\n",
    "min_movie_ratings = 23\n",
    "min_user_ratings = 23\n",
    "\n",
    "filtered_movies = ratings['movieId'].value_counts() >= min_movie_ratings\n",
    "filtered_movies = filtered_movies[filtered_movies].index.tolist()\n",
    "\n",
    "filtered_users = ratings['userId'].value_counts() >= min_user_ratings\n",
    "filtered_users = filtered_users[filtered_users].index.tolist()\n",
    "\n",
    "df_filtered = ratings[(ratings['movieId'].isin(filtered_movies)) & \n",
    "                      (ratings['userId'].isin(filtered_users)) & \n",
    "                      (ratings['movieId'].isin(highly_rated_movies))]\n",
    "\n",
    "df_filtered_copy = df_filtered.copy()\n",
    "df_filtered_copy['movieId'] = df_filtered_copy['movieId'].astype('category')\n",
    "df_filtered_copy['userId'] = df_filtered_copy['userId'].astype('category')\n",
    "\n",
    "rows = df_filtered_copy['movieId'].cat.codes\n",
    "cols = df_filtered_copy['userId'].cat.codes\n",
    "data = df_filtered_copy['rating']\n",
    "\n",
    "coo = coo_matrix((data, (rows, cols)), shape=(df_filtered_copy['movieId'].cat.categories.size, df_filtered_copy['userId'].cat.categories.size))\n",
    "sparse_matrix = csc_matrix(coo)\n",
    "\n",
    "\n"
   ]
  },
  {
   "cell_type": "code",
   "execution_count": 17,
   "metadata": {},
   "outputs": [],
   "source": [
    "movies_with_tags = pd.merge( movies, tags, on='movieId', how='left')\n",
    "\n",
    "aggregated_tags = movies_with_tags.groupby('movieId')['tag'].apply(lambda x: ' '.join(x.dropna())).reset_index()\n",
    "\n",
    "movies_with_full_profile = pd.merge(movies, aggregated_tags, on='movieId', how='left')\n",
    "\n",
    "movies_with_full_profile['profile'] = movies_with_full_profile['genres'] + ' ' + movies_with_full_profile['tag']\n",
    "\n",
    "tfidf = TfidfVectorizer(stop_words='english')\n",
    "tfidf_matrix = tfidf.fit_transform(movies_with_full_profile['profile'])"
   ]
  },
  {
   "cell_type": "code",
   "execution_count": 18,
   "metadata": {},
   "outputs": [
    {
     "name": "stdout",
     "output_type": "stream",
     "text": [
      "Filmer liknande 'Lethal Weapon (1987)' (movieId 2000):\n",
      "969                                Michael Collins (1996)\n",
      "977                                        Curdled (1996)\n",
      "979                                 Ed's Next Move (1996)\n",
      "990                               Parent Trap, The (1961)\n",
      "991                                      Pollyanna (1960)\n",
      "1883    Nightmare on Elm Street 5: The Dream Child, A ...\n",
      "1885                               Friday the 13th (1980)\n",
      "1915                     Gremlins 2: The New Batch (1990)\n",
      "1955                     Devil and Max Devlin, The (1981)\n",
      "1966                        Hot Lead and Cold Feet (1978)\n",
      "Name: title, dtype: object\n"
     ]
    }
   ],
   "source": [
    "model_knn = NearestNeighbors(metric='cosine', algorithm='brute', n_neighbors=20)\n",
    "model_knn.fit(sparse_matrix)\n",
    "\n",
    "def get_movie_recommendations(movie_id, movies_df, model, sparse_matrix, k=10):\n",
    "    if movie_id not in movies_df['movieId'].values:\n",
    "        return \"Movie ID not found\"\n",
    "\n",
    "    movie_title = movies_df[movies_df['movieId'] == movie_id]['title'].iloc[0]\n",
    "\n",
    "    # Använd movieId för att hitta indexet i den sparade matrisen\n",
    "    movie_idx = pd.Index(movies_df['movieId']).get_loc(movie_id)\n",
    "\n",
    "    # Hämta rekommendationer med NearestNeighbors-modellen\n",
    "    distances, indices = model.kneighbors(sparse_matrix[movie_idx], n_neighbors=k+1)\n",
    "    similar_movies_indices = indices.flatten()[1:]\n",
    "\n",
    "    # Hämta och returnera titlar för liknande filmer\n",
    "    similar_movies_ids = movies_df.iloc[similar_movies_indices]['movieId']\n",
    "    similar_movies_titles = movies_df[movies_df['movieId'].isin(similar_movies_ids)]['title']\n",
    "    \n",
    "    return movie_title, similar_movies_titles\n",
    "\n",
    "# Använd funktionen för att hitta liknande filmer\n",
    "movie_id = 2000  # Ett exempel på movieId\n",
    "original_title, similar_movies = get_movie_recommendations(movie_id, movies, model_knn, sparse_matrix)\n",
    "print(f\"Filmer liknande '{original_title}' (movieId {movie_id}):\\n{similar_movies}\")\n"
   ]
  },
  {
   "cell_type": "code",
   "execution_count": 19,
   "metadata": {},
   "outputs": [
    {
     "name": "stdout",
     "output_type": "stream",
     "text": [
      "Rekommendationer baserade på filmen 'Lethal Weapon (1987)':\n",
      "1911       Lethal Weapon (1987)\n",
      "1912     Lethal Weapon 2 (1989)\n",
      "1913     Lethal Weapon 3 (1992)\n",
      "1829     Lethal Weapon 4 (1998)\n",
      "3176       Forever Young (1992)\n",
      "3605      Bird on a Wire (1990)\n",
      "363             Maverick (1994)\n",
      "3653        Patriot, The (2000)\n",
      "3915     What Women Want (2000)\n",
      "32967            Veteran (2015)\n",
      "Name: title, dtype: object\n"
     ]
    }
   ],
   "source": [
    "def get_content_based_recommendations(movie_id, movies_df, tfidf_matrix, k=10):\n",
    "    # Kontrollera först om filmen finns i datasetet\n",
    "    if movie_id not in movies_df['movieId'].values:\n",
    "        return f\"No recommendations found for movie ID {movie_id}\"\n",
    "\n",
    "    # Hitta filmens titel\n",
    "    movie_title = movies_df[movies_df['movieId'] == movie_id]['title'].iloc[0]\n",
    "\n",
    "    # Hitta index för det angivna movieId i tfidf_matrix\n",
    "    movie_index = movies_df.index[movies_df['movieId'] == movie_id].tolist()[0]\n",
    "    movie_tfidf = tfidf_matrix[movie_index]\n",
    "\n",
    "    # Beräkna cosine-similaritet\n",
    "    cosine_similarity = linear_kernel(movie_tfidf, tfidf_matrix).flatten()\n",
    "\n",
    "    # Hitta index för liknande filmer\n",
    "    similar_indices = cosine_similarity.argsort()[:-k-1:-1]\n",
    "    similar_movies = movies_df.iloc[similar_indices]['title']\n",
    "\n",
    "    return movie_title, similar_movies\n",
    "\n",
    "# Hitta rekommenderade filmer för ett specifikt movieId\n",
    "movie_id = 2000\n",
    "original_title, recommended_movies = get_content_based_recommendations(movie_id, movies, tfidf_matrix)\n",
    "print(f\"Rekommendationer baserade på filmen '{original_title}':\\n{recommended_movies}\")\n"
   ]
  },
  {
   "cell_type": "code",
   "execution_count": 20,
   "metadata": {},
   "outputs": [
    {
     "name": "stdout",
     "output_type": "stream",
     "text": [
      "Hybrid rekommendationer baserade på filmen 'Lethal Weapon (1987)':\n",
      "0    Lethal Weapon 2 (1989)\n",
      "1      Lethal Weapon (1987)\n",
      "2     Bird on a Wire (1990)\n",
      "3    What Women Want (2000)\n",
      "4    Lethal Weapon 4 (1998)\n",
      "5      Forever Young (1992)\n",
      "6           Maverick (1994)\n",
      "7    Lethal Weapon 3 (1992)\n",
      "8       Patriot, The (2000)\n",
      "9            Veteran (2015)\n",
      "Name: Recommended Movies, dtype: object\n"
     ]
    }
   ],
   "source": [
    "def hybrid_recommendations(movie_id, movies_df, model, sparse_matrix, tfidf_matrix, k=10, knn_weight=0.3, content_weight=0.7):\n",
    "    # Hitta filmens titel\n",
    "    if movie_id not in movies_df['movieId'].values:\n",
    "        return f\"No recommendations found for movie ID {movie_id}\"\n",
    "    original_title = movies_df[movies_df['movieId'] == movie_id]['title'].iloc[0]\n",
    "\n",
    "    # Hämta innehållsbaserade rekommendationer\n",
    "    _, content_based_recommendations = get_content_based_recommendations(movie_id, movies_df, tfidf_matrix, k)\n",
    "    \n",
    "    # Hämta kollaborativa rekommendationer\n",
    "    knn_recommendations = get_movie_recommendations(movie_id, movies_df, model, sparse_matrix, k)[1] \n",
    "\n",
    "    # Kombinera rekommendationerna\n",
    "    combined_recommendations = (content_based_recommendations.tolist() * int(content_weight * k) + knn_recommendations.tolist() * int(knn_weight * k))[:k]\n",
    "\n",
    "    # Räkna och ranka rekommendationer\n",
    "    movie_scores = {movie: combined_recommendations.count(movie) for movie in set(combined_recommendations)}\n",
    "    top_movies = sorted(movie_scores, key=movie_scores.get, reverse=True)[:k]\n",
    "\n",
    "    # Skapa resultatlista\n",
    "    top_movies_series = pd.Series(top_movies, name=\"Recommended Movies\")\n",
    "    return original_title, top_movies_series\n",
    "\n",
    "\n",
    "# Använda funktionen\n",
    "movie_id = 2000  \n",
    "original_title, hybrid_recs = hybrid_recommendations(movie_id, movies, model_knn, sparse_matrix, tfidf_matrix)\n",
    "print(f\"Hybrid rekommendationer baserade på filmen '{original_title}':\\n{hybrid_recs}\")\n",
    "\n",
    "\n",
    "\n",
    "\n",
    "\n",
    "    \n"
   ]
  }
 ],
 "metadata": {
  "kernelspec": {
   "display_name": "ML.Intro-_OlZvDIl",
   "language": "python",
   "name": "python3"
  },
  "language_info": {
   "codemirror_mode": {
    "name": "ipython",
    "version": 3
   },
   "file_extension": ".py",
   "mimetype": "text/x-python",
   "name": "python",
   "nbconvert_exporter": "python",
   "pygments_lexer": "ipython3",
   "version": "3.11.5"
  }
 },
 "nbformat": 4,
 "nbformat_minor": 2
}
